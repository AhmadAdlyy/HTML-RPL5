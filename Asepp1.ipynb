{
  "nbformat": 4,
  "nbformat_minor": 0,
  "metadata": {
    "colab": {
      "provenance": [],
      "authorship_tag": "ABX9TyP/foiMWrZGVmaeDKYTJIct",
      "include_colab_link": true
    },
    "kernelspec": {
      "name": "python3",
      "display_name": "Python 3"
    },
    "language_info": {
      "name": "python"
    }
  },
  "cells": [
    {
      "cell_type": "markdown",
      "metadata": {
        "id": "view-in-github",
        "colab_type": "text"
      },
      "source": [
        "<a href=\"https://colab.research.google.com/github/AhmadAdlyy/HTML-RPL5/blob/main/Asepp1.ipynb\" target=\"_parent\"><img src=\"https://colab.research.google.com/assets/colab-badge.svg\" alt=\"Open In Colab\"/></a>"
      ]
    },
    {
      "cell_type": "code",
      "execution_count": 1,
      "metadata": {
        "colab": {
          "base_uri": "https://localhost:8080/"
        },
        "id": "5d7MdPRML8fe",
        "outputId": "ede4ddfb-a539-404f-cfcb-8de6f76610e6"
      },
      "outputs": [
        {
          "output_type": "execute_result",
          "data": {
            "text/plain": [
              "str"
            ]
          },
          "metadata": {},
          "execution_count": 1
        }
      ],
      "source": [
        "nama=\"Adly\"\n",
        "type(nama)"
      ]
    },
    {
      "cell_type": "markdown",
      "source": [
        "\n",
        "\n",
        "\n",
        "\n"
      ],
      "metadata": {
        "id": "2GRRgF9yMlSV"
      }
    },
    {
      "cell_type": "code",
      "source": [
        "a=3\n",
        "type(a)"
      ],
      "metadata": {
        "colab": {
          "base_uri": "https://localhost:8080/"
        },
        "id": "mkIE2X71MfC1",
        "outputId": "f766e5b9-7539-45bc-ac33-391af928c99e"
      },
      "execution_count": 2,
      "outputs": [
        {
          "output_type": "execute_result",
          "data": {
            "text/plain": [
              "int"
            ]
          },
          "metadata": {},
          "execution_count": 2
        }
      ]
    },
    {
      "cell_type": "code",
      "source": [
        "huruf=['a','b','c']\n",
        "type(huruf)\n",
        "huruf[2]"
      ],
      "metadata": {
        "colab": {
          "base_uri": "https://localhost:8080/",
          "height": 36
        },
        "id": "Zn-BFNQcPK6X",
        "outputId": "b17a0c12-70cf-44b3-a736-ad573b4e0579"
      },
      "execution_count": 3,
      "outputs": [
        {
          "output_type": "execute_result",
          "data": {
            "text/plain": [
              "'c'"
            ],
            "application/vnd.google.colaboratory.intrinsic+json": {
              "type": "string"
            }
          },
          "metadata": {},
          "execution_count": 3
        }
      ]
    },
    {
      "cell_type": "code",
      "source": [
        "#daftarhargabuah\n",
        "daftarharga={'apel':7000,'mangga':8000,'jeruk':5000}\n",
        "type(daftarharga)\n",
        "#"
      ],
      "metadata": {
        "colab": {
          "base_uri": "https://localhost:8080/"
        },
        "id": "QKMca7CqPw9i",
        "outputId": "238ea383-dec7-4c40-f126-6e57432779bc"
      },
      "execution_count": 4,
      "outputs": [
        {
          "output_type": "execute_result",
          "data": {
            "text/plain": [
              "dict"
            ]
          },
          "metadata": {},
          "execution_count": 4
        }
      ]
    },
    {
      "cell_type": "code",
      "source": [
        "print(daftarharga.keys())\n",
        "print(daftarharga.values())\n",
        "print(\"Nama pembeli = Asep\")"
      ],
      "metadata": {
        "colab": {
          "base_uri": "https://localhost:8080/"
        },
        "id": "-3kKTlkbQs6s",
        "outputId": "fc46f877-0de2-4d47-dbfc-b30bcbb95096"
      },
      "execution_count": 7,
      "outputs": [
        {
          "output_type": "stream",
          "name": "stdout",
          "text": [
            "dict_keys(['apel', 'mangga', 'jeruk'])\n",
            "dict_values([7000, 8000, 5000])\n",
            "Nama pembeli = Asep\n"
          ]
        }
      ]
    },
    {
      "cell_type": "code",
      "source": [],
      "metadata": {
        "id": "l8J8XERtSWPC"
      },
      "execution_count": 5,
      "outputs": []
    },
    {
      "cell_type": "code",
      "metadata": {
        "colab": {
          "base_uri": "https://localhost:8080/"
        },
        "id": "a91cda00",
        "outputId": "e260f3f7-5706-4022-9d8c-5ea5ce9825bd"
      },
      "source": [
        "def luas_keliling(panjang, lebar):\n",
        "  \"\"\"\n",
        "  Menghitung luas dan keliling persegi panjang.\n",
        "\n",
        "  Args:\n",
        "    panjang: Panjang persegi panjang.\n",
        "    lebar: Lebar persegi panjang.\n",
        "\n",
        "  Returns:\n",
        "    Tuple berisi luas dan keliling persegi panjang.\n",
        "  \"\"\"\n",
        "  luas = panjang * lebar\n",
        "  keliling = 2 * (panjang + lebar)\n",
        "  return luas, keliling\n",
        "\n",
        "# Contoh penggunaan fungsi\n",
        "panjang_persegi = 10\n",
        "lebar_persegi = 5\n",
        "luas, keliling = luas_keliling(panjang_persegi, lebar_persegi)\n",
        "\n",
        "print(f\"Luas persegi panjang: {luas}\")\n",
        "print(f\"Keliling persegi panjang: {keliling}\")"
      ],
      "execution_count": 6,
      "outputs": [
        {
          "output_type": "stream",
          "name": "stdout",
          "text": [
            "Luas persegi panjang: 50\n",
            "Keliling persegi panjang: 30\n"
          ]
        }
      ]
    },
    {
      "cell_type": "code",
      "source": [],
      "metadata": {
        "id": "2Syp_u3TRxOK"
      },
      "execution_count": 6,
      "outputs": []
    }
  ]
}